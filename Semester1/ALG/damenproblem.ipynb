{
 "cells": [
  {
   "cell_type": "code",
   "execution_count": 2,
   "metadata": {},
   "outputs": [
    {
     "name": "stdout",
     "output_type": "stream",
     "text": [
      "Q . . . . . . . . . . .\n",
      ". . Q . . . . . . . . .\n",
      ". . . . Q . . . . . . .\n",
      ". . . . . . . Q . . . .\n",
      ". . . . . . . . . Q . .\n",
      ". . . . . . . . . . . Q\n",
      ". . . . . Q . . . . . .\n",
      ". . . . . . . . . . Q .\n",
      ". Q . . . . . . . . . .\n",
      ". . . . . . Q . . . . .\n",
      ". . . . . . . . Q . . .\n",
      ". . . Q . . . . . . . .\n"
     ]
    }
   ],
   "source": [
    "def solveNQueens(N):\n",
    "    board = [['.' for _ in range(N)] for _ in range(N)]\n",
    "    \n",
    "    if placeQueens(board, 0, N):\n",
    "        return board\n",
    "    else:\n",
    "        return \"Keine Lösung gefunden\"\n",
    "\n",
    "def placeQueens(board, row, N):\n",
    "    if row == N:\n",
    "        return True\n",
    "    \n",
    "    for col in range(N):\n",
    "        if isSafe(board, row, col, N):\n",
    "            board[row][col] = 'Q'\n",
    "            \n",
    "            if placeQueens(board, row + 1, N):\n",
    "                return True\n",
    "            \n",
    "            board[row][col] = '.'\n",
    "            \n",
    "    return False\n",
    "\n",
    "def isSafe(board, row, col, N):\n",
    "    for i in range(row):\n",
    "        if board[i][col] == 'Q':\n",
    "            return False\n",
    "    i, j = row - 1, col - 1\n",
    "    while i >= 0 and j >= 0:\n",
    "        if board[i][j] == 'Q':\n",
    "            return False\n",
    "        i -= 1\n",
    "        j -= 1\n",
    "    i, j = row - 1, col + 1\n",
    "    while i >= 0 and j < N:\n",
    "        if board[i][j] == 'Q':\n",
    "            return False\n",
    "        i -= 1\n",
    "        j += 1\n",
    "    \n",
    "    return True\n",
    "\n",
    "N = int(input(\"N: \"))\n",
    "solution = solveNQueens(N)\n",
    "for row in solution:\n",
    "    print(' '.join(row))\n"
   ]
  }
 ],
 "metadata": {
  "kernelspec": {
   "display_name": "Python 3",
   "language": "python",
   "name": "python3"
  },
  "language_info": {
   "codemirror_mode": {
    "name": "ipython",
    "version": 3
   },
   "file_extension": ".py",
   "mimetype": "text/x-python",
   "name": "python",
   "nbconvert_exporter": "python",
   "pygments_lexer": "ipython3",
   "version": "3.12.1"
  }
 },
 "nbformat": 4,
 "nbformat_minor": 2
}
