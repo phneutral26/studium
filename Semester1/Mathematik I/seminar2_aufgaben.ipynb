{
 "cells": [
  {
   "cell_type": "code",
   "execution_count": 22,
   "metadata": {},
   "outputs": [],
   "source": [
    "import itertools as it"
   ]
  },
  {
   "cell_type": "code",
   "execution_count": 23,
   "metadata": {},
   "outputs": [],
   "source": [
    "A = {2, 4, 19, 23, 29}\n",
    "B = {14, 19, 29}\n",
    "C = {4, 7, 14}"
   ]
  },
  {
   "cell_type": "code",
   "execution_count": 24,
   "metadata": {},
   "outputs": [],
   "source": [
    "def product(M, N):\n",
    "    return set(it.product(M, N))"
   ]
  },
  {
   "cell_type": "code",
   "execution_count": 25,
   "metadata": {},
   "outputs": [
    {
     "data": {
      "text/plain": [
       "{(19, 4), (19, 7), (19, 14), (29, 4), (29, 7), (29, 14)}"
      ]
     },
     "execution_count": 25,
     "metadata": {},
     "output_type": "execute_result"
    }
   ],
   "source": [
    "# g) (A/B) X C\n",
    "\n",
    "product(set.intersection(A,B), C)"
   ]
  },
  {
   "cell_type": "code",
   "execution_count": 26,
   "metadata": {},
   "outputs": [
    {
     "data": {
      "text/plain": [
       "{(14, 14),\n",
       " (14, 4),\n",
       " (14, 7),\n",
       " (19, 14),\n",
       " (19, 4),\n",
       " (19, 7),\n",
       " (29, 14),\n",
       " (29, 4),\n",
       " (29, 7),\n",
       " 19,\n",
       " 2,\n",
       " 23,\n",
       " 29,\n",
       " 4}"
      ]
     },
     "execution_count": 26,
     "metadata": {},
     "output_type": "execute_result"
    }
   ],
   "source": [
    "set.union(A, product(B, C))"
   ]
  }
 ],
 "metadata": {
  "kernelspec": {
   "display_name": "Python 3",
   "language": "python",
   "name": "python3"
  },
  "language_info": {
   "codemirror_mode": {
    "name": "ipython",
    "version": 3
   },
   "file_extension": ".py",
   "mimetype": "text/x-python",
   "name": "python",
   "nbconvert_exporter": "python",
   "pygments_lexer": "ipython3",
   "version": "3.12.3"
  }
 },
 "nbformat": 4,
 "nbformat_minor": 2
}
