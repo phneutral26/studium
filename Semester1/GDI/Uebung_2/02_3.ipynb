{
 "cells": [
  {
   "cell_type": "markdown",
   "id": "1f2a935f",
   "metadata": {
    "slideshow": {
     "slide_type": "-"
    }
   },
   "source": [
    "# Übung: Bit-Interpretation"
   ]
  },
  {
   "cell_type": "markdown",
   "id": "37758e5d-084f-4fa4-b1dc-615ff4b1ab08",
   "metadata": {},
   "source": [
    "Gegeben ist die Funktion ``floatToInt(f)``, welche die die Bit-Repräsentation der Fließkommazahl ``f`` (Single-Precision, 32 Bits) als Integer-Wert, d.h. als ganze Zahl mit 4 Bytes, interpretiert. \n",
    "Zusätzlich ist die Umkehroperation ``intToFloat(i)`` gegeben, welche die Bit-Repräsentation der ganzen Zahl als Fließkommazahl interpretiert. Führen Sie die nachfolgende Zelle aus!\n"
   ]
  },
  {
   "cell_type": "code",
   "execution_count": 1,
   "id": "096d285e-1001-48e7-95c1-b3773869c955",
   "metadata": {
    "slideshow": {
     "slide_type": ""
    },
    "tags": []
   },
   "outputs": [],
   "source": [
    "import struct\n",
    "\n",
    "def floatToInt(f):\n",
    "    return int (''.join('{:08b}'.format(b) for b in struct.pack('>f', f)), 2)\n",
    "\n",
    "def intToFloat(i):\n",
    "    return struct.unpack('>f', (i).to_bytes(4, byteorder='big'))[0]"
   ]
  },
  {
   "cell_type": "markdown",
   "id": "3e9be23b",
   "metadata": {},
   "source": [
    "<div class=\"alert alert-block alert-info aufgabe\">\n",
    "<ol>\n",
    "    <li>Führen Sie die nachfolgende Zelle aus und geben Sie die Werte (als Dezimalzahl) für <code>a</code>, <code>b</code> und <code>c</code> an. </li>\n",
    "    <li>Begründen Sie die Werte, in dem Sie die Bit-Darstellung der Fließkommazahlen (<code>2.0</code>, <code>3.0</code> bzw. <code>0</code>) bestimmen und die Bit-Darstellung als ganze Zahl (Integer) intepretieren. </li>\n",
    "    <li>Stellen Sie die bei 1. erhaltenen Werte für <code>a</code>, <code>b</code> und <code>c</code> jeweils als Zweierpotenz oder als Summe von Zweierpotenzen dar.</li>\n",
    "</div>"
   ]
  },
  {
   "cell_type": "code",
   "execution_count": null,
   "id": "25d5fc6c",
   "metadata": {},
   "outputs": [],
   "source": [
    "a = floatToInt(2.0)\n",
    "b = floatToInt(3.0)\n",
    "c = floatToInt(0.0)"
   ]
  },
  {
   "cell_type": "markdown",
   "id": "48dffad4",
   "metadata": {},
   "source": [
    "**Ihre Lösung hier:**\n",
    "\n"
   ]
  },
  {
   "cell_type": "markdown",
   "id": "46c7fc37",
   "metadata": {},
   "source": [
    "<div class=\"alert alert-block alert-info aufgabe\">\n",
    "<ol start=\"4\">\n",
    "    <li>Führen Sie die nachfolgende Zelle aus und geben Sie die Werte als Dezimalzahl für <code>x</code> und <code>y</code> an. </li>\n",
    "    <li>Begründen Sie die Werte, in dem Sie die Bit-Darstellung der ganzen Zahlen ($2^{31} - 2^{23}$ bzw. $2^{31} - 2^{23} + 1$) bestimmen und die Bit-Darstellung als Fließkommazahl intepretieren. </li>\n",
    "</div>"
   ]
  },
  {
   "cell_type": "code",
   "execution_count": null,
   "id": "99c76488-f3e1-4f77-ab42-059c2127cdf5",
   "metadata": {},
   "outputs": [],
   "source": [
    "i = 2**31 - 2**23   \n",
    "x = intToFloat(i)\n",
    "y = intToFloat(i+1)"
   ]
  },
  {
   "cell_type": "markdown",
   "id": "f0f62c94",
   "metadata": {},
   "source": [
    "**Ihre Lösung hier:**\n",
    "\n"
   ]
  }
 ],
 "metadata": {
  "kernelspec": {
   "display_name": "Python 3",
   "language": "python",
   "name": "python3"
  },
  "language_info": {
   "codemirror_mode": {
    "name": "ipython",
    "version": 3
   },
   "file_extension": ".py",
   "mimetype": "text/x-python",
   "name": "python",
   "nbconvert_exporter": "python",
   "pygments_lexer": "ipython3",
   "version": "3.12.3"
  }
 },
 "nbformat": 4,
 "nbformat_minor": 5
}
