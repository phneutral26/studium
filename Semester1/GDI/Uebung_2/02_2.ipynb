{
 "cells": [
  {
   "cell_type": "markdown",
   "id": "1f2a935f",
   "metadata": {
    "slideshow": {
     "slide_type": "-"
    }
   },
   "source": [
    "# Übung: Fließkommaarithmetik"
   ]
  },
  {
   "cell_type": "markdown",
   "id": "37758e5d-084f-4fa4-b1dc-615ff4b1ab08",
   "metadata": {},
   "source": [
    "Gegeben seien  $x = 2^{-25}$  und  $y = 2^{30}$ sowie zwei Python-Programme, die jeweils eine Summe $s_1$ bzw. $s_2$ berechnen.\n"
   ]
  },
  {
   "cell_type": "code",
   "execution_count": 9,
   "id": "096d285e-1001-48e7-95c1-b3773869c955",
   "metadata": {
    "slideshow": {
     "slide_type": ""
    },
    "tags": []
   },
   "outputs": [],
   "source": [
    "# Programm 1\n",
    "\n",
    "x = 2 ** (-25) # ** ist der Potenz-Operator in Python, d.h a**b berechnet \"a hoch b\"\n",
    "y = 2 ** 30\n",
    "s1 = 0\n",
    "for i in range(0, 1024): # die Schleife wird 1024 mal durchlaufen \n",
    "  s1 += x \n",
    "s1 += y"
   ]
  },
  {
   "cell_type": "code",
   "execution_count": 21,
   "id": "8957072c",
   "metadata": {},
   "outputs": [],
   "source": [
    "# Programm 2\n",
    "\n",
    "x = 2 ** (-25)\n",
    "y = 2 ** 30\n",
    "s2 = y\n",
    "for i in range(0, 1024):    \n",
    "  s2 += x"
   ]
  },
  {
   "attachments": {},
   "cell_type": "markdown",
   "id": "3e9be23b",
   "metadata": {},
   "source": [
    "<div class=\"alert alert-block alert-info aufgabe\">\n",
    "<ol>\n",
    "    <li>Vergleichen Sie die beiden Programme! Führen beide Programme die gleiche (d.h. äquivalente) mathematische Berechnung aus?</li>\n",
    "    <li>Geben Sie die mathematische Formel für $s_1$ bzw. $s_2$ in Abhängigkeit von $x$ und $y$ an.</li>\n",
    "    </ol>\n",
    "    </div>"
   ]
  },
  {
   "cell_type": "markdown",
   "id": "f28f3eeb",
   "metadata": {},
   "source": [
    "**Ihre Lösung hier:**\n",
    "\n"
   ]
  },
  {
   "attachments": {},
   "cell_type": "markdown",
   "id": "52f3cff9",
   "metadata": {},
   "source": [
    "<div class=\"alert alert-block alert-info aufgabe\">\n",
    "<ol start=\"3\">\n",
    "    <li>Führen Sie beide Programme aus und lassen Sie sich jeweils $s_1$ und $s_2$ ausgeben. Welche Werte werden ausgegeben?</li>\n",
    "    <li>Warum liefern die Programme unterschiedliche Werte für $s_1$ und $s_2$? <i>Hinweis: Nehmen Sie dabei an, dass $x$, $y$ und $s_1$ bzw. $s_2$ jeweils als Fließkommazahl mit Double-Precision gespeichert werden. Geben Sie zunächst die binäre Repräsentation von $x$ und $y$ an und vollziehen Sie dann den Rechenweg der Programme unter Verwendung der Fließkommaarithmetik.</li>\n",
    "    </ol>\n",
    "    </div>"
   ]
  },
  {
   "cell_type": "markdown",
   "id": "3fcdafd5",
   "metadata": {},
   "source": [
    "**Ihre Lösung hier:**\n",
    "\n"
   ]
  }
 ],
 "metadata": {
  "kernelspec": {
   "display_name": "Python 3 (ipykernel)",
   "language": "python",
   "name": "python3"
  },
  "language_info": {
   "codemirror_mode": {
    "name": "ipython",
    "version": 3
   },
   "file_extension": ".py",
   "mimetype": "text/x-python",
   "name": "python",
   "nbconvert_exporter": "python",
   "pygments_lexer": "ipython3",
   "version": "3.10.11"
  },
  "vscode": {
   "interpreter": {
    "hash": "cefae66e6130560b67b007668d63388ed09d17a472908f660a433dfc845f9827"
   }
  }
 },
 "nbformat": 4,
 "nbformat_minor": 5
}
