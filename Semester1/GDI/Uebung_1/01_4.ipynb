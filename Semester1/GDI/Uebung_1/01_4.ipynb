{
 "cells": [
  {
   "cell_type": "markdown",
   "id": "1f2a935f",
   "metadata": {
    "slideshow": {
     "slide_type": "-"
    }
   },
   "source": [
    "# Übung: Negation und Subtraktion"
   ]
  },
  {
   "cell_type": "markdown",
   "id": "df8c09ae-ce4c-4ba0-a9c0-59fabdcd9084",
   "metadata": {},
   "source": [
    "Der Datentyp ``numpy.byte`` speichert ganze Zahlen im Zahlenbereich -128 bis 127 unter Verwendung von einem Byte, d.h. acht Bits. Führen Sie den nachfolgenden Code aus, der eine Variable <code>a</code> von diesem Datentyp mit dem Wert 67 initialisiert."
   ]
  },
  {
   "cell_type": "code",
   "execution_count": 3,
   "id": "4ead6dfa-4e60-40ae-a0ed-246331ef44ee",
   "metadata": {},
   "outputs": [
    {
     "name": "stdout",
     "output_type": "stream",
     "text": [
      "67\n"
     ]
    }
   ],
   "source": [
    "import numpy\n",
    "\n",
    "a = numpy.byte(67)\n",
    "print (a)"
   ]
  },
  {
   "cell_type": "markdown",
   "id": "3e9be23b",
   "metadata": {},
   "source": [
    "<div class=\"alert alert-block alert-info aufgabe\">\n",
    "<ol>\n",
    "    <li>Bestimmen Sie die Binärdarstellung der Zahl 67 für den Datentyp <code>numpy.byte</code>! Berechnen Sie dazu von Hand die Dualdarstellung von 67.</li>\n",
    "    <li>Überprüfen Sie Ihre Lösung unter Verwendung der Funktion <code>numpy.binary_repr</code> (<a href=\"https://numpy.org/doc/stable/reference/generated/numpy.binary_repr.html\">siehe Dokumentation</a>). <i>Hinweis: Verwenden Sie den Wert 8 für den zweiten Parameter <code>width</code>!</i></li>\n",
    "</div>"
   ]
  },
  {
   "cell_type": "markdown",
   "id": "9e3dab14-c136-43fc-8f1c-5d11902cd487",
   "metadata": {},
   "source": [
    "**Ihre Lösung hier:**\n",
    "\n"
   ]
  },
  {
   "cell_type": "markdown",
   "id": "16d2f475",
   "metadata": {},
   "source": [
    "$$ 67 / 2 = 33 Rest 1 $$\n",
    "\n",
    "$$ 33 / 2 = 16 Rest 1 $$\n",
    "\n",
    "$$ 16 / 2 = 8 Rest 0 $$\n",
    "\n",
    "$$ 8 / 2 = 4 Rest 0 $$\n",
    "\n",
    "$$ 4 / 2 = 2 Rest 0 $$\n",
    "\n",
    "$$ 2 / 2 = 1  Rest 0 $$\n",
    "\n",
    "$$ 1 / 2 = 0 Rest 1 $$\n",
    "\n",
    "$$ 1000011_2 $$ \n"
   ]
  },
  {
   "cell_type": "code",
   "execution_count": 5,
   "id": "ec75424f",
   "metadata": {},
   "outputs": [
    {
     "name": "stdout",
     "output_type": "stream",
     "text": [
      "01000011\n"
     ]
    }
   ],
   "source": [
    "import numpy\n",
    "\n",
    "a = numpy.binary_repr(67, 8)\n",
    "print (a)"
   ]
  },
  {
   "cell_type": "markdown",
   "id": "00010aa3-784f-436d-81bb-a034159e69a4",
   "metadata": {},
   "source": [
    "<div class=\"alert alert-block alert-info aufgabe\">\n",
    "<ol start=\"3\">\n",
    "    <li>Bestimmen Sie die Binärdarstellung der Zahl -44 für den Datentyp <code>numpy.byte</code>! Berechnen Sie dazu von Hand die Dualdarstellung von 44 und bilden Sie das Zweierkomplement (=Einerkomplement + 1).</li>\n",
    "    <li>Überprüfen Sie Ihre Lösung unter Verwendung der Funktion <code>numpy.binary_repr</code> (<a href=\"https://numpy.org/doc/stable/reference/generated/numpy.binary_repr.html\">siehe Dokumentation</a>). <i>Hinweis: Verwenden Sie den Wert 8 für den zweiten Parameter <code>width</code>!</i></li>\n",
    "</div>"
   ]
  },
  {
   "cell_type": "markdown",
   "id": "00647093-ee43-4ee1-b15a-8a494bc121df",
   "metadata": {},
   "source": [
    "**Ihre Lösung hier:**\n",
    "\n"
   ]
  },
  {
   "cell_type": "markdown",
   "id": "eb60e6a9",
   "metadata": {},
   "source": [
    "$44÷2=22 (Rest 0)$\n",
    "\n",
    "$22÷2=11 (Rest 0)$\n",
    "\n",
    "$11÷2=5 (Rest 1)$\n",
    "\n",
    "$5÷2=2 (Rest 1)$\n",
    "\n",
    "$2÷2=1 (Rest 0)$\n",
    "\n",
    "$1÷2=0 (Rest 1)$\n",
    "\n",
    "$ 101100_2 $\n",
    "\n",
    "Invertiere die Bits (tausche $0$ in $1$ und $1$ in $0$):\n",
    "\n",
    "Aus $00101100$ wird $11010011$.\n",
    "\n",
    "Addiere 1 zu den invertierten Bits:\n",
    "\n",
    "$11010011+1=11010100$.\n"
   ]
  },
  {
   "cell_type": "code",
   "execution_count": 7,
   "id": "0f6f82d8",
   "metadata": {},
   "outputs": [
    {
     "name": "stdout",
     "output_type": "stream",
     "text": [
      "11010100\n"
     ]
    }
   ],
   "source": [
    "import numpy\n",
    "\n",
    "a = numpy.binary_repr((-44), 8)\n",
    "print (a)"
   ]
  },
  {
   "cell_type": "markdown",
   "id": "e771b82e-e1ed-4af8-aec1-3418441385b7",
   "metadata": {},
   "source": [
    "<div class=\"alert alert-block alert-info aufgabe\">\n",
    "<ol start=\"5\">\n",
    "    <li>Berechnen Sie schriftlich 67 - 44 im Dualsystem, in dem Sie die Binärdarstellung von 67 und -44 schriftlich addieren.</li>\n",
    "    <li>Überprüfen Sie Ihre Lösung unter Verwendung der Funktion <code>numpy.binary_repr</code> (<a href=\"https://numpy.org/doc/stable/reference/generated/numpy.binary_repr.html\">siehe Dokumentation</a>), d.h. Ihre Lösung sollte äquivalent zur Binärdarstellung von 23 sein. <i>Hinweis: Verwenden Sie den Wert 8 für den zweiten Parameter <code>width</code>!</i></li>\n",
    "</div>"
   ]
  },
  {
   "cell_type": "markdown",
   "id": "5c94f03b-d53d-4c04-a01c-148a4d58dede",
   "metadata": {},
   "source": [
    "**Ihre Lösung hier:**\n",
    "\n"
   ]
  },
  {
   "cell_type": "code",
   "execution_count": null,
   "id": "e9fa910b",
   "metadata": {},
   "outputs": [],
   "source": [
    "  01000011   (67 in Binär)\n",
    "+ 11010100   (-44 in Zweierkomplement)\n",
    "  --------\n",
    "  00010111   (Ergebnis)\n"
   ]
  },
  {
   "cell_type": "code",
   "execution_count": 8,
   "id": "aadf3a1c",
   "metadata": {},
   "outputs": [
    {
     "name": "stdout",
     "output_type": "stream",
     "text": [
      "00010111\n"
     ]
    }
   ],
   "source": [
    "import numpy\n",
    "\n",
    "a = numpy.binary_repr((67+(-44)), 8)\n",
    "print (a)"
   ]
  }
 ],
 "metadata": {
  "kernelspec": {
   "display_name": "Python 3",
   "language": "python",
   "name": "python3"
  },
  "language_info": {
   "codemirror_mode": {
    "name": "ipython",
    "version": 3
   },
   "file_extension": ".py",
   "mimetype": "text/x-python",
   "name": "python",
   "nbconvert_exporter": "python",
   "pygments_lexer": "ipython3",
   "version": "3.12.3"
  }
 },
 "nbformat": 4,
 "nbformat_minor": 5
}
