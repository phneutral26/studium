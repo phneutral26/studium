{
 "cells": [
  {
   "cell_type": "markdown",
   "id": "1f2a935f",
   "metadata": {
    "slideshow": {
     "slide_type": "-"
    }
   },
   "source": [
    "# Kapitel: Zahlendarstellung"
   ]
  },
  {
   "cell_type": "markdown",
   "id": "8a1d40ae",
   "metadata": {},
   "source": [
    "<div class=\"alert alert-block alert-warning\">\n",
    "    Welche Aussagen (Gleichungen) gelten für populäre Programmiersprachen wie z.B. Javascript, Java oder Python?<br/>\n",
    "\n",
    "<ol style=\"list-style-type: upper-alpha;\">\n",
    "    <li><code>2000 + 2000 == 4000</code><br/><br/></li>\n",
    "    <li><code>2000000000 + 2000000000 == 4000000000</code><br/><br/></li>\n",
    "    <li><code>33.25 * 100 == 3325</code><br/><br/></li>\n",
    "    <li><code>33.05 * 100 == 3305</code></li>\n",
    "</ol>\n",
    "</div>\n",
    "\n",
    "<a href=\"https://pingo.coactum.de/008043\" target=\"_blank\"><button>Abstimmen</button></a>"
   ]
  },
  {
   "cell_type": "code",
   "execution_count": null,
   "id": "d307f62c",
   "metadata": {},
   "outputs": [],
   "source": [
    "# Summe zweier Zahlen a und b vom Python-Datentyp int\n",
    "a = int(input(\"a=\"))\n",
    "b = int(input(\"b=\"))\n",
    "print(f\"{a} + {b} == {a+b}\")"
   ]
  },
  {
   "cell_type": "code",
   "execution_count": null,
   "id": "32bfc858",
   "metadata": {},
   "outputs": [],
   "source": [
    "# Summe zweier Zahlen a und b vom Python-Datentyp numpy.intc\n",
    "import numpy\n",
    "a = numpy.intc(input(\"a=\"))\n",
    "b = numpy.intc(input(\"b=\"))\n",
    "print(f\"{a} + {b} == {a+b}\")"
   ]
  },
  {
   "cell_type": "code",
   "execution_count": null,
   "id": "77fa42dd",
   "metadata": {},
   "outputs": [],
   "source": [
    "# Produkt zweier Zahlen a und b vom Python-Datentyp float\n",
    "a = float(input(\"a=\"))\n",
    "b = float(input(\"b=\"))\n",
    "print(f'{a} + {b} == {a*b:.20f}') # erst mit .10, dann mit .20"
   ]
  },
  {
   "cell_type": "markdown",
   "id": "95a14502",
   "metadata": {},
   "source": [
    "## Positionssysteme"
   ]
  },
  {
   "cell_type": "markdown",
   "id": "c83432cd",
   "metadata": {},
   "source": [
    "<div class=\"alert alert-block alert-warning\">\n",
    "    Welche Aussagen bzgl. eines Positionssystems der Basis B sind korrekt?\n",
    "<br/>\n",
    "\n",
    "<ol style=\"list-style-type: upper-alpha;\">\n",
    "    <li>Es gibt B verschiedene Ziffern (von 0 bis B-1).<br/><br/></li>\n",
    "    <li>Mit n Ziffern (Stellen) können die Zahlen 1 bis B<sup>n</sup> kodiert werden.<br/><br/></li>\n",
    "    <li>Für B = 2 wird die Dezimalzahl 999 durch 10 Ziffern dargestellt.<br/><br/></li>\n",
    "    <li>Die Kodierung einer Zahl im Positionssystem mit Basis B hat mehr Ziffern, als die Kodierung der gleichen Zahl mit Basis B+1.</li>\n",
    "</ol>\n",
    "</div>\n",
    "\n",
    "<a href=\"https://pingo.coactum.de/008043\" target=\"_blank\"><button>Abstimmen</button></a>"
   ]
  },
  {
   "cell_type": "code",
   "execution_count": null,
   "id": "70a219e8",
   "metadata": {},
   "outputs": [],
   "source": [
    "# Mit der Funktion bin können wir die Binärdarstellung einer Zahl ausgeben lassen\n",
    "print(bin(999))"
   ]
  },
  {
   "cell_type": "markdown",
   "id": "4d5c5b5f",
   "metadata": {},
   "source": [
    "<div class=\"alert alert-block alert-info aufgabe\">\n",
    "    Schreiben Sie ein Python-Programm, dass die Dualdarstellung einer Dezimalzahl berechnet!\n",
    "    <ul>\n",
    "        <li>Stellen Sie das Ergebnis als Liste dar!</li>\n",
    "        <li>Kapseln Sie das Programm in eine Funktion!</li>\n",
    "    </ul>\n",
    "</div>"
   ]
  },
  {
   "cell_type": "code",
   "execution_count": 1,
   "id": "d8580c44",
   "metadata": {
    "scrolled": true
   },
   "outputs": [
    {
     "name": "stdout",
     "output_type": "stream",
     "text": [
      "[1, 0, 1, 1, 0, 1]\n"
     ]
    }
   ],
   "source": [
    "# Ihre Lösung hier\n",
    "\n",
    "def decToBin(x):\n",
    "    bin = []\n",
    "    while x > 0:\n",
    "        bin.insert(0, x % 2)\n",
    "        x = x // 2\n",
    "    return(bin)\n",
    "\n",
    "print(decToBin(int(input(\"Geben sie eine Dezimalzahl an: \"))))"
   ]
  },
  {
   "cell_type": "code",
   "execution_count": null,
   "id": "ecdc3395",
   "metadata": {},
   "outputs": [],
   "source": []
  },
  {
   "cell_type": "markdown",
   "id": "a1edb722",
   "metadata": {},
   "source": [
    "<div class=\"alert alert-block alert-success aufgabe\">\n",
    "    Was berechnet folgende Funktion? Was macht sie besonders?\n",
    "</div>"
   ]
  },
  {
   "cell_type": "code",
   "execution_count": 7,
   "id": "2d1e3191",
   "metadata": {},
   "outputs": [
    {
     "name": "stdout",
     "output_type": "stream",
     "text": [
      "[1, 1, 1, 1, 1, 1, 0, 0, 0, 1, 1]\n"
     ]
    }
   ],
   "source": [
    "def komischeFunktion (n):\n",
    "    return [] if n==0 else komischeFunktion (n//2) + [n%2]\n",
    "\n",
    "print(komischeFunktion(2019))"
   ]
  },
  {
   "cell_type": "markdown",
   "id": "2283063e",
   "metadata": {},
   "source": [
    "<div class=\"alert alert-block alert-info aufgabe\">\n",
    "    Schreiben Sie ein Python-Programm, dass die Dezimalzahl aus einer Dualdarstellung berechnet!\n",
    "</div>"
   ]
  },
  {
   "cell_type": "code",
   "execution_count": 12,
   "id": "a1e974c0",
   "metadata": {},
   "outputs": [
    {
     "name": "stdout",
     "output_type": "stream",
     "text": [
      "2019\n"
     ]
    }
   ],
   "source": [
    "# Ihre Lösung hier\n",
    "\n",
    "def binToDec(x):\n",
    "    result = 0\n",
    "    for n in x:\n",
    "        result = result*2 + n\n",
    "    return result\n",
    "\n",
    "print(binToDec([1, 1, 1, 1, 1, 1, 0, 0, 0, 1, 1]))\n"
   ]
  },
  {
   "cell_type": "code",
   "execution_count": 26,
   "id": "d50705b5",
   "metadata": {},
   "outputs": [
    {
     "name": "stdout",
     "output_type": "stream",
     "text": [
      "1011011101101111011101100111101100\n"
     ]
    }
   ],
   "source": [
    "def decimal_to_base(x, b):\n",
    "    result = \"\"\n",
    "    while x:\n",
    "        result = str(x % b) + result  \n",
    "        x //= b \n",
    "    \n",
    "    return result\n",
    "\n",
    "print(decimal_to_base(12310141420, 2))"
   ]
  },
  {
   "cell_type": "markdown",
   "id": "c1dab49d",
   "metadata": {},
   "source": [
    "<div class=\"alert alert-block alert-info aufgabe\">\n",
    "    Schreiben Sie ein Python-Programm, dass eine 16x16-Tabelle mit allen Werte von 0 bis 255 ausgibt!\n",
    "</div>"
   ]
  },
  {
   "cell_type": "code",
   "execution_count": null,
   "id": "4e17db0b",
   "metadata": {
    "scrolled": true
   },
   "outputs": [],
   "source": [
    "# Ihre Lösung hier\n",
    "\n"
   ]
  },
  {
   "cell_type": "markdown",
   "id": "4ef6395e",
   "metadata": {},
   "source": [
    "## Speicherdarstellung ganzer Zahlen"
   ]
  },
  {
   "cell_type": "markdown",
   "id": "a19f3e68",
   "metadata": {},
   "source": [
    "<div class=\"alert alert-block alert-info aufgabe\">\n",
    "    Geben Sie die Byte-Darstellung der Zahl <code>66297010</code> bei Verwendung von 4 Bytes an! Verwenden Sie jeweils Big und Little Endian.\n",
    "</div>"
   ]
  },
  {
   "cell_type": "code",
   "execution_count": null,
   "id": "58bb5b38",
   "metadata": {},
   "outputs": [],
   "source": [
    "a = 66297010\n",
    "print (bin(a))\n",
    "\n",
    "# Ihre Lösung hier\n"
   ]
  },
  {
   "cell_type": "markdown",
   "id": "6a587765",
   "metadata": {},
   "source": [
    "<div class=\"alert alert-block alert-success aufgabe\">\n",
    "    Nachfolgendes Programm gibt die Binärdarstellung der Zahl <code>1408474290</code> sowie ihre Byte-Darstellung der Zahl  bei Verwendung von 4 Bytes (Big Endian) an. Können Sie erklären, warum als erstes Byte <code>S</code> angezeigt wird?\n",
    "</div>"
   ]
  },
  {
   "cell_type": "code",
   "execution_count": 3,
   "id": "04bfaa20",
   "metadata": {
    "scrolled": true
   },
   "outputs": [
    {
     "name": "stdout",
     "output_type": "stream",
     "text": [
      "0b1010011111100111001110010110010\n",
      "b'S\\xf3\\x9c\\xb2'\n"
     ]
    }
   ],
   "source": [
    "print (bin(1408474290))\n",
    "print ((1408474290).to_bytes(4, byteorder='big'))"
   ]
  },
  {
   "cell_type": "markdown",
   "id": "8fcc31a6",
   "metadata": {},
   "source": [
    "<div class=\"alert alert-block alert-info aufgabe\">\n",
    "    Definieren Sie ein Variable vom Typ <code>numpy.byte</code> und weisen Sie ihr den Wert 125 zu. Was passiert, wenn Sie den Wert schrittweise erhöhen (wiederholte Addition von <code>numpy.byte(1)</code>)?\n",
    "</div>"
   ]
  },
  {
   "cell_type": "code",
   "execution_count": 7,
   "id": "750657f0",
   "metadata": {},
   "outputs": [
    {
     "name": "stdout",
     "output_type": "stream",
     "text": [
      "125\n",
      "1111110\n",
      "1111111\n",
      "10000000\n",
      "10000001\n",
      "10000010\n",
      "10000011\n",
      "10000100\n",
      "10000101\n",
      "10000110\n",
      "10000111\n"
     ]
    }
   ],
   "source": [
    "# Ihre Lösung hier\n",
    "import numpy\n",
    "x = 125\n",
    "print(x)\n",
    "\n",
    "for i in range(10):\n",
    "    x+=1\n",
    "    print(numpy.binary_repr(x))"
   ]
  },
  {
   "cell_type": "markdown",
   "id": "568067be",
   "metadata": {},
   "source": [
    "<div class=\"alert alert-block alert-info aufgabe\">\n",
    "    Begründen Sie, warum die Summe 2*10<sup>9</sup>+2*10<sup>9</sup> unter Verwendung des Datentyps <code>numpy.intc</code> (4 Bytes, signed) gerade den Wert <code>-294967296</code> ergibt!\n",
    "</div>"
   ]
  },
  {
   "cell_type": "code",
   "execution_count": 12,
   "id": "c8da3cc2",
   "metadata": {},
   "outputs": [
    {
     "data": {
      "text/plain": [
       "4000000000"
      ]
     },
     "execution_count": 12,
     "metadata": {},
     "output_type": "execute_result"
    }
   ],
   "source": [
    "import numpy\n",
    "\n"
   ]
  },
  {
   "cell_type": "markdown",
   "id": "422204a6",
   "metadata": {},
   "source": [
    "## Rationale Zahlen"
   ]
  },
  {
   "cell_type": "markdown",
   "id": "537efad8",
   "metadata": {},
   "source": [
    "<div class=\"alert alert-block alert-info aufgabe\">\n",
    "    Berechnen Sie die Dezimaldarstellung der Zahlen ABC,CBA<sub>16</sub> sowie 1011,1001<sub>2</sub>! Können Sie die für (ganze Zahlen entwickelte) Methode <code>dual2dec(d)</code> nutzen?\n",
    "</div>"
   ]
  },
  {
   "cell_type": "code",
   "execution_count": null,
   "id": "df456e5d",
   "metadata": {
    "scrolled": true
   },
   "outputs": [],
   "source": [
    "# Ihre Lösung hier"
   ]
  },
  {
   "cell_type": "markdown",
   "id": "cac23484",
   "metadata": {},
   "source": [
    "<div class=\"alert alert-block alert-success aufgabe\">\n",
    "    Entwickeln Sie analog zur Methode <code>dec2dual (n)</code> eine Methode <code>dec2dualNachkomma (n)</code>, die die Binärdarstellung eines Nachkommaanteils einer Dezimalzahl bestimmt. Der Einfachheit können Sie annehmen, dass der übergebene Parameter stets eine Zahl zwischen 0 und 1 ist, d.h. ein rationale Zahl der Form \"0.xxxxxx\". Was liefert Ihre Methode für die Werte 0.125, 0.5625 sowie 0.1?\n",
    "</div>"
   ]
  },
  {
   "cell_type": "code",
   "execution_count": null,
   "id": "a427eb1c",
   "metadata": {},
   "outputs": [],
   "source": [
    "# Ihre Lösung hier\n",
    "\n"
   ]
  },
  {
   "cell_type": "markdown",
   "id": "5b1ba270",
   "metadata": {},
   "source": [
    "## Fließkommazahlen"
   ]
  },
  {
   "cell_type": "code",
   "execution_count": null,
   "id": "c2c777eb",
   "metadata": {},
   "outputs": [],
   "source": [
    "''' \n",
    "Die Funktion floatToBin erstellt die binäre Repräsentation einer übergebenen Float-Zahl\n",
    "Zur Vereinfachung werden Vorzeichen, Exponent und Mantisse durch ein _ getrennt \n",
    "und der Exponent-Wert als (mit bias korrigierte) Dezimalzahl ermittelt\n",
    "'''\n",
    "\n",
    "import struct\n",
    "def floatToBin(x):\n",
    "    s = ''.join('{:08b}'.format(b) for b in struct.pack('>d', x))\n",
    "    return [\n",
    "        s[0:1] + '_' + s[1:12] + '_' + s[12:64], # bits\n",
    "        int(s[1:12], 2) - 1023 # E (dezimal)\n",
    "        ] "
   ]
  },
  {
   "cell_type": "code",
   "execution_count": null,
   "id": "ff705ebb",
   "metadata": {},
   "outputs": [],
   "source": [
    "print (f\"2019  = {floatToBin(2019)}\")\n",
    "print (f\"33.25 = {floatToBin(33.25)}\")\n",
    "print (f\"33.05 = {floatToBin(33.05)}\")"
   ]
  }
 ],
 "metadata": {
  "kernelspec": {
   "display_name": "Python 3",
   "language": "python",
   "name": "python3"
  },
  "language_info": {
   "codemirror_mode": {
    "name": "ipython",
    "version": 3
   },
   "file_extension": ".py",
   "mimetype": "text/x-python",
   "name": "python",
   "nbconvert_exporter": "python",
   "pygments_lexer": "ipython3",
   "version": "3.12.3"
  }
 },
 "nbformat": 4,
 "nbformat_minor": 5
}
