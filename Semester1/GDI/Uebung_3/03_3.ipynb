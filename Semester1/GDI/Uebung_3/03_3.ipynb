{
 "cells": [
  {
   "cell_type": "markdown",
   "id": "1f2a935f",
   "metadata": {
    "slideshow": {
     "slide_type": "-"
    }
   },
   "source": [
    "# Übung: UTF-8-Kodierung"
   ]
  },
  {
   "cell_type": "markdown",
   "id": "3e9be23b",
   "metadata": {},
   "source": [
    "<div class=\"alert alert-block alert-info aufgabe\">\n",
    "<ol>\n",
    "    <li>Welche Texte sind hier codiert?\n",
    "    <ul>\n",
    "        <li><code>53 74 75 4B</code></li>\n",
    "        <li><code>01010010 01000010 01001100</code></li>\n",
    "    </ul><br/>\n",
    "    </li>\n",
    "    <li>Warum können die unter 1) genannten Texte ohne Angabe des Zeichensatzes dekodiert werden? Welche Annahmen haben Sie bei der Dekodierung getroffen?</li>\n",
    "</div>"
   ]
  },
  {
   "cell_type": "markdown",
   "id": "8dc34af9",
   "metadata": {},
   "source": [
    "**Ihre Lösung hier:**\n",
    "\n"
   ]
  },
  {
   "cell_type": "code",
   "execution_count": null,
   "id": "e4b3c2fc",
   "metadata": {
    "vscode": {
     "languageId": "plaintext"
    }
   },
   "outputs": [],
   "source": [
    "text.encode(\"windows-1252\").decode(\"utf-8\")"
   ]
  },
  {
   "cell_type": "markdown",
   "id": "8d0705f1",
   "metadata": {},
   "source": [
    "<div class=\"alert alert-block alert-info aufgabe\">\n",
    "<ol start=\"3\">\n",
    "    <li>Berechnen Sie die Binärkodierung in UTF-8 für den Codepunkt U+2192 und beschreiben Sie Ihr Vorgehen. </li>\n",
    "    <li>Welches Zeichen wird durch den Codepunkt U+2192 dargestellt?</li>\n",
    "    </ol>\n",
    "</div>"
   ]
  },
  {
   "cell_type": "markdown",
   "id": "acdec614",
   "metadata": {},
   "source": [
    "**Ihre Lösung hier:**\n",
    "\n"
   ]
  }
 ],
 "metadata": {
  "kernelspec": {
   "display_name": "Python 3 (ipykernel)",
   "language": "python",
   "name": "python3"
  },
  "language_info": {
   "codemirror_mode": {
    "name": "ipython",
    "version": 3
   },
   "file_extension": ".py",
   "mimetype": "text/x-python",
   "name": "python",
   "nbconvert_exporter": "python",
   "pygments_lexer": "ipython3",
   "version": "3.10.10"
  },
  "vscode": {
   "interpreter": {
    "hash": "cefae66e6130560b67b007668d63388ed09d17a472908f660a433dfc845f9827"
   }
  }
 },
 "nbformat": 4,
 "nbformat_minor": 5
}
