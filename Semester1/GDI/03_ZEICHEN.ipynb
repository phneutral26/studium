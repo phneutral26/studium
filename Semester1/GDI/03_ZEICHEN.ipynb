{
 "cells": [
  {
   "cell_type": "markdown",
   "id": "1f2a935f",
   "metadata": {
    "slideshow": {
     "slide_type": "-"
    }
   },
   "source": [
    "# Kapitel: Zeichendarstellung"
   ]
  },
  {
   "attachments": {
    "Unbenannt.png": {
     "image/png": "[encoded data removed]"
    }
   },
   "cell_type": "markdown",
   "id": "8a1d40ae",
   "metadata": {},
   "source": [
    "<div class=\"alert alert-block alert-warning\">\n",
    "Nachrichten, die mit der Schlussformel \"Viele Grüße\" enden, werden manchmal im E-Mail-Client oder einem Web-Browser \n",
    "wie folgt dargestellt angezeigt. \n",
    "<br/>\n",
    "    \n",
    "![Unbenannt.png](attachment:Unbenannt.png)\n",
    "    \n",
    "<ol style=\"list-style-type: upper-alpha;\">\n",
    "    <li>Können Sie das Verhalten erklären?<br/><br/></li>\n",
    "    <li>Können Sie das Verhalten mit einem Editor Ihrer Wahl reproduzieren?</li>\n",
    "</ol>\n",
    "</div>"
   ]
  },
  {
   "cell_type": "markdown",
   "id": "73e1d58b-742c-4874-924b-4403eb04863c",
   "metadata": {},
   "source": [
    "<div class=\"alert alert-block alert-info aufgabe\">\n",
    "    Führen Sie die folgenden Schritte aus, um obiges Verhalten zu reproduzieren! Können Sie Ergebnisse intepretieren?\n",
    "</div>"
   ]
  },
  {
   "cell_type": "markdown",
   "id": "57ad9811",
   "metadata": {},
   "source": [
    "1. Erstellen Sie eine Text-Datei mit dem Inhalt ``Viele Grüße``. Wie viele Zeichen enthält die Datei?\n",
    "2. Schauen Sie sich die Datei mit einem Hex-Editor an, z.B. ``xxd -b <filename>``. Wie viele Bytes enthält die Datei?\n",
    "3. Öffnen Sie die Datei in einem Editor, z.B. ``vi <filename>``, bei dem Sie das Encoding umstellen können. \n",
    "4. Ändern Sie das Encoding zu ``:e! ++enc=windows-1252``. Was wird angezeigt?\n",
    "5. Ändern Sie das Encoding zu ``:e! ++enc=utf-8``. Was wird nun angezeigt?\n",
    "6. Ändern Sie das Encoding zu ``:e! ++enc=iso8859-1``. Was wird nun angezeigt?"
   ]
  },
  {
   "cell_type": "markdown",
   "id": "2518a8be-714d-45eb-881a-13a9927b9b88",
   "metadata": {},
   "source": [
    "<div class=\"alert alert-block alert-info aufgabe\">\n",
    "    Wiederholen Sie die vorherige Aufgabe mit einer anderen Datei, die Sie wie folgt erstellen:\n",
    "</div>"
   ]
  },
  {
   "cell_type": "markdown",
   "id": "7e6ef884",
   "metadata": {},
   "source": [
    "1. Öffnen Sie einen Text-Editor, z.B. ``vi``, und stellen Sie das File-Encoding auf ISO8859-1, z.B. ``:set fileencoding=iso8859-1``\n",
    "2. Schreiben Sie ``Viele Grüße`` in die Datei. (Hinweis: Bei VI müssen Sie dazu mit ``i`` in den Insert-Modus, um den Inhalt zu verändern. Danach mit Escape in den Command-Modus zurück, mittels ``:w &lt;filename&gt;`` speichern und mittels ``:q!`` beenden.\n",
    "3. Wiederholen Sie die Schritte der vorherigen Aufgabe ab Punkt 2."
   ]
  },
  {
   "cell_type": "markdown",
   "id": "5b3da6a0",
   "metadata": {},
   "source": [
    "## ASCII, ISO-8859"
   ]
  },
  {
   "cell_type": "markdown",
   "id": "77fd7678",
   "metadata": {},
   "source": [
    "<div class=\"alert alert-block alert-info aufgabe\">\n",
    "    Erstellen Sie eine Datei mit dem Inhalt <code>ABC</code>. Öffnen Sie die Datei in einem <a href=\"https://de.wikipedia.org/wiki/Hex-Editor\">Hex-Editor</a> und geben Sie die in der Datei gespeicherten Bytes an.\n",
    "    <br/>\n",
    "            Nutzen Sie die Python-Funktionen <code><a href=\"https://docs.python.org/3/library/functions.html#ord\">ord</a></code> und <code><a href=\"https://docs.python.org/3/library/functions.html#hex\">hex</a></code>, um die Byte-Repräsentation der Zeichen A, B und C mit Python auszugeben.\n",
    "\n",
    "</div>"
   ]
  },
  {
   "cell_type": "code",
   "execution_count": null,
   "id": "d307f62c",
   "metadata": {
    "scrolled": true
   },
   "outputs": [],
   "source": [
    "# Ihre Lösung hier \n",
    "\n"
   ]
  },
  {
   "cell_type": "markdown",
   "id": "c90d1647",
   "metadata": {},
   "source": [
    "<div class=\"alert alert-block alert-info aufgabe\">\n",
    "    Stellen Sie die ASCII-Tabelle tabellearisch dar. Nutzen Sie die Python-Funktion <code>chr</code>, die für einen Codepunkt (Zahl) das Zeichen liefert. \n",
    "</div>"
   ]
  },
  {
   "cell_type": "code",
   "execution_count": null,
   "id": "f7639219",
   "metadata": {},
   "outputs": [],
   "source": [
    "# Ihre Lösung hier\n",
    "\n"
   ]
  },
  {
   "cell_type": "markdown",
   "id": "670fe313",
   "metadata": {},
   "source": [
    "<div class=\"alert alert-block alert-info aufgabe\">\n",
    "    Erstellen Sie eine Datei mittels Hex-Editor bestehend aus drei Bytes: <code>0xD7, 0xF7, 0xBD</code>. Öffnen Sie die Datei in einem Text-Editor Ihrer Wahl unter verschiedenen ISO-Encodings, u.a. ISO-1 und ISO-5. Was stellen Sie fest?\n",
    "    <br/>\n",
    "    Nutzen Sie die Python-Funktion <code><a href=\"https://docs.python.org/3/library/stdtypes.html#bytes.decode\">decode</a></code>, um eine Byte-Folge unter Verwendung eines Encodings zu dekodieren, d.h. als String zu interpretieren.\n",
    "</div>"
   ]
  },
  {
   "cell_type": "markdown",
   "id": "b79c1176",
   "metadata": {},
   "source": [
    "Mögliches Vorgehen unter Verwendung von ``xxd`` und ``vi``:\n",
    "1. ``echo \"00: D7F7BD\" | xxd -r > a.txt``\n",
    "2. ``vi a.txt``\n",
    "3. in VI: ``:e! ++enc=iso8859-1`` \n",
    "4. in VI: ``:e! ++enc=iso8859-5``"
   ]
  },
  {
   "cell_type": "code",
   "execution_count": null,
   "id": "416525c7",
   "metadata": {},
   "outputs": [],
   "source": [
    "# Ihre Lösung hier\n",
    "\n"
   ]
  },
  {
   "cell_type": "markdown",
   "id": "0c4d0aba",
   "metadata": {},
   "source": [
    "## Unicode und UTF-32"
   ]
  },
  {
   "cell_type": "markdown",
   "id": "c4bd2efd",
   "metadata": {},
   "source": [
    "<div class=\"alert alert-block alert-info aufgabe\">\n",
    "    Erstellen Sie die UTF-32-Kodierung der Zeichen <code>\"</code> und <code>e</code>! Nutzen Sie dazu die Python-Funktion <code><a href=\"https://docs.python.org/3/library/stdtypes.html#bytes.encode\">encode</a></code>\n",
    "</div>"
   ]
  },
  {
   "cell_type": "code",
   "execution_count": null,
   "id": "5dcd3584",
   "metadata": {},
   "outputs": [],
   "source": [
    "# Ihre Lösung hier\n",
    "\n"
   ]
  },
  {
   "cell_type": "markdown",
   "id": "8691aca3",
   "metadata": {},
   "source": [
    "<div class=\"alert alert-block alert-warning\">\n",
    "    Könnte man bei der UTF-32-Kodierung die führenden Nullen weglassen, um eine sparsamere Kodierung zu ermöglichen?<br/>\n",
    "\n",
    "<ol style=\"list-style-type: upper-alpha;\">\n",
    "    <li>Ja<br/><br/></li>\n",
    "    <li>Nein</li>\n",
    "</ol>\n",
    "</div>\n",
    "\n",
    "<a href=\"https://pingo.coactum.de/008043\" target=\"_blank\"><button>Abstimmen</button></a>"
   ]
  },
  {
   "cell_type": "markdown",
   "id": "e9c44893-c7fb-43cb-8436-b0c7e61ccb4a",
   "metadata": {},
   "source": [
    "<div class=\"alert alert-block alert-info aufgabe\">\n",
    "    Begründen Sie Ihre Antwort durch ein Beispiel.\n",
    "</div>"
   ]
  },
  {
   "cell_type": "code",
   "execution_count": null,
   "id": "76037339",
   "metadata": {},
   "outputs": [],
   "source": [
    "# Ihre Lösung hier\n",
    "\n"
   ]
  },
  {
   "cell_type": "markdown",
   "id": "de05dc53-e10f-43d0-884b-6da4f085a86a",
   "metadata": {},
   "source": [
    "## UTF-8"
   ]
  },
  {
   "cell_type": "markdown",
   "id": "d015e1fb",
   "metadata": {},
   "source": [
    "<div class=\"alert alert-block alert-info aufgabe\">\n",
    "    Erstellen Sie für die folgenden Zeichen jeweils die Kodierung unter Verwendung von ISO-8859-1 sowie UTF-8-Kodierung!<br/>\n",
    "    <ul>\n",
    "        <li><code>A</code> (Unicode Codepoint <a href=\"https://unicodeplus.com/U+0041\">U+0041</a>)</li>\n",
    "        <li><code>§</code> (Unicode Codepoint <a href=\"https://unicodeplus.com/U+00A7\">U+00A7</a>)</li>\n",
    "        <li><code>ĩ</code> (Unicode Codepoint <a href=\"https://unicodeplus.com/U+0129\">U+0129</a>)</li>\n",
    "</li>\n",
    "        \n",
    "</div>"
   ]
  },
  {
   "cell_type": "code",
   "execution_count": null,
   "id": "2d962f2a",
   "metadata": {},
   "outputs": [],
   "source": [
    "# Ihre Lösung hier \n",
    "\n",
    "\n"
   ]
  },
  {
   "cell_type": "markdown",
   "id": "f0ff03da",
   "metadata": {},
   "source": [
    "<div class=\"alert alert-block alert-info aufgabe\">\n",
    "    Was passiert, wenn Sie eine Datei mit dem Inhalt <code>A§ĩ</code> unter UTF-8 abspeichern und dann im Editor unter ISO-8859-1 öffnen?\n",
    "</div>"
   ]
  },
  {
   "cell_type": "code",
   "execution_count": null,
   "id": "4aeb0bd8",
   "metadata": {},
   "outputs": [],
   "source": [
    "# Ihre Lösung hier \n",
    "\n"
   ]
  },
  {
   "cell_type": "markdown",
   "id": "8c964f93-ec9c-4aa4-8161-8a5afc6d61e3",
   "metadata": {},
   "source": [
    "<div class=\"alert alert-block alert-warning\">\n",
    "    Für welche Kodierung gilt die Fano-Bedingung?<br/>\n",
    "\n",
    "<ol style=\"list-style-type: upper-alpha;\">\n",
    "    <li>ASCII (7 Bits pro Zeichen, keine Präfixe)<br/><br/>\n",
    "    <li>UTF-8 (1 bis 4 Bytes pro Zeichen, alle Bytes haben Präfixe)<br/><br/></li>\n",
    "    <li>UTF-32 (4 Bytes pro Zeichen, keine Präfixe)</li>\n",
    "</ol>\n",
    "</div>\n",
    "\n",
    "<a href=\"https://pingo.coactum.de/008043\" target=\"_blank\"><button>Abstimmen</button></a>"
   ]
  },
  {
   "cell_type": "code",
   "execution_count": null,
   "id": "069686a2-9189-4a4a-8333-489b59a2f5f7",
   "metadata": {},
   "outputs": [],
   "source": [
    "# Ihre Lösung hier \n",
    "\n"
   ]
  },
  {
   "cell_type": "markdown",
   "id": "3087119c",
   "metadata": {},
   "source": [
    "<div class=\"alert alert-block alert-info aufgabe\">\n",
    "    Was passiert, wenn Sie eine Datei mit dem Inhalt <code>Viele Grüße</code> unter UTF-8 abspeichern und dann im Editor unter ISO-8859-1 oder Windows-1252 öffnen? Was passiert, wenn Sie eine Datei mit dem Inhalt <code>Viele Grüße</code> unter ISO-8859-1 abspeichern und dann im Editor unter UTF-8 öffnen?\n",
    "</div>"
   ]
  },
  {
   "cell_type": "code",
   "execution_count": null,
   "id": "6811b510",
   "metadata": {},
   "outputs": [],
   "source": [
    "# Ihre Lösung hier \n",
    "\n",
    "\n"
   ]
  },
  {
   "cell_type": "markdown",
   "id": "b840fce6",
   "metadata": {},
   "source": [
    "<div class=\"alert alert-block alert-warning\">\n",
    "    Bei welcher Kodierung ist die Byte-Reihenfolge, d.h. Big Endian va. Little Endian, relevant?<br/>\n",
    "\n",
    "<ol style=\"list-style-type: upper-alpha;\">\n",
    "    <li>UTF-8 (1 bis 4 Bytes, alle Bytes haben Präfixe)<br/><br/></li>\n",
    "    <li>UTF-16 (2 oder 4 Bytes, Bytes haben teilweise Präfixe)<br/><br/></li>\n",
    "    <li>UTF-32 (4 Bytes, keine Präfix)</li>\n",
    "</ol>\n",
    "</div>\n",
    "\n",
    "<a href=\"https://pingo.coactum.de/008043\" target=\"_blank\"><button>Abstimmen</button></a>"
   ]
  },
  {
   "cell_type": "code",
   "execution_count": null,
   "id": "cf32edff-1924-4c24-96d6-9c5fae86c838",
   "metadata": {},
   "outputs": [],
   "source": [
    "# Byte-Reihenfolge bei UTF-8\n",
    "\n",
    "\n",
    "\n"
   ]
  },
  {
   "cell_type": "code",
   "execution_count": null,
   "id": "1d0274de-2eae-49af-83c2-862f2c5fa3e8",
   "metadata": {},
   "outputs": [],
   "source": [
    "# Byte-Reihenfolge bei UTF-16 \n",
    "\n",
    "\n"
   ]
  },
  {
   "cell_type": "code",
   "execution_count": null,
   "id": "b41499fc-507c-4f8e-9c7f-22b27754dee6",
   "metadata": {},
   "outputs": [],
   "source": [
    "# Byte-Reihenfolge bei UTF-32 \n",
    "\n"
   ]
  },
  {
   "cell_type": "markdown",
   "id": "97bcf136",
   "metadata": {},
   "source": [
    "## Barcodes"
   ]
  },
  {
   "attachments": {
    "Unbenannt.jpg": {
     "image/jpeg": "[encoded data removed]"
    }
   },
   "cell_type": "markdown",
   "id": "25c4e803",
   "metadata": {},
   "source": [
    "<div class=\"alert alert-block alert-info aufgabe\">\n",
    "    Welche Zeichenkette ist hier kodiert? Interpretieren Sie Ihre Beobachtungen!<br/>\n",
    "\n",
    "![Unbenannt.jpg](attachment:Unbenannt.jpg)\n",
    "</div>"
   ]
  },
  {
   "cell_type": "code",
   "execution_count": null,
   "id": "a26fc006",
   "metadata": {},
   "outputs": [],
   "source": [
    "# Generierung eines Code39-Barcodes\n",
    "code39 = {\n",
    "    'A':[1,0,0,0,0,1,0,0,1],\n",
    "    'B':[0,0,1,0,0,1,0,0,1],\n",
    "    'C':[1,0,1,0,0,1,0,0,0],\n",
    "    'D':[0,0,0,0,1,1,0,0,1],\n",
    "    'E':[1,0,0,0,1,1,0,0,0], # hier gern erweitern um alle Zeichen ...\n",
    "    '*':[0,1,0,0,1,0,1,0,0]    \n",
    "}\n",
    "\n",
    "pattern = '\\u2588 '*5 # U+2588 ist Unicode-Zeichen Voller Block\n",
    "\n",
    "s = '*ABDCADDE*' # hier zu codierenden Text mit * einschließen\n",
    "for rows in range(0,8):\n",
    "    print('')\n",
    "    for z in s:\n",
    "        for (n,c) in zip (code39[z] + [0], pattern):\n",
    "            print(c*(n+1), end='')"
   ]
  }
 ],
 "metadata": {
  "kernelspec": {
   "display_name": "Python 3 (ipykernel)",
   "language": "python",
   "name": "python3"
  },
  "language_info": {
   "codemirror_mode": {
    "name": "ipython",
    "version": 3
   },
   "file_extension": ".py",
   "mimetype": "text/x-python",
   "name": "python",
   "nbconvert_exporter": "python",
   "pygments_lexer": "ipython3",
   "version": "3.10.10"
  },
  "vscode": {
   "interpreter": {
    "hash": "cefae66e6130560b67b007668d63388ed09d17a472908f660a433dfc845f9827"
   }
  }
 },
 "nbformat": 4,
 "nbformat_minor": 5
}
