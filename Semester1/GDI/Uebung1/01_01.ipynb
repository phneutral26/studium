{
 "cells": [
  {
   "cell_type": "markdown",
   "metadata": {},
   "source": [
    "# Übung 1\n",
    "## Übungsblatt 1\n",
    "\n",
    "### a)\n",
    "Wandle $1010111$ in Dezimalsystem um, mithilfe von:\n",
    "\n",
    "#### Potenzmethode:\n",
    "$$1⋅2^6+0⋅2^5+1⋅2^4+0⋅2^3+1⋅2^2+1⋅2^1+1⋅2^0$$\n",
    "\n",
    "$$64+0+16+0+4+2+1=87$$\n",
    "\n",
    "\n",
    "#### Hohner-Methode:\n",
    "$0×2+1=1$\n",
    "\n",
    "$1×2+0=2$\n",
    "\n",
    "$2×2+1=5$\n",
    "\n",
    "$5×2+0=10$\n",
    "\n",
    "$10×2+1=21$\n",
    "\n",
    "$21×2+1=43$\n",
    "\n",
    "$43×2+1=87$\n"
   ]
  },
  {
   "cell_type": "markdown",
   "metadata": {},
   "source": [
    "### b)\n",
    "\n",
    "Der Wert von $101011_2$​ lässt sich ableiten, indem wir die Dezimalzahl 87 durch 2 teilen, weil das Entfernen eines Bits das Ergebnis halbiert:\n",
    "$$87÷2=43$$\n",
    "\n",
    "\n",
    "Wenn wir $1010111_2​$ um eine 0 erweitern, also die Zahl $10101110_2$​ bilden, bedeutet dies, dass die Zahl mit 2 multipliziert wird:\n",
    "$$87×2=174$$"
   ]
  },
  {
   "cell_type": "markdown",
   "metadata": {},
   "source": [
    "### c)\n",
    "$41892÷16=2618$ Rest $4$\n",
    "\n",
    "$2618÷16=163$ Rest $10$ (Hex: $A$)\n",
    "\n",
    "$163÷16=10$ Rest $3$\n",
    "\n",
    "$10÷16=0$ Rest 1010 (Hex: $A$)\n",
    "\n",
    "Von unten nach oben gelesen: $A3A4_F$"
   ]
  }
 ],
 "metadata": {
  "kernelspec": {
   "display_name": "Python 3 (ipykernel)",
   "language": "python",
   "name": "python3"
  }
 },
 "nbformat": 4,
 "nbformat_minor": 2
}
