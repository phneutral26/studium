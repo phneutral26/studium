{
 "cells": [
  {
   "cell_type": "markdown",
   "id": "1f2a935f",
   "metadata": {
    "slideshow": {
     "slide_type": "-"
    }
   },
   "source": [
    "# Übung: Positionssysteme"
   ]
  },
  {
   "cell_type": "markdown",
   "id": "37758e5d-084f-4fa4-b1dc-615ff4b1ab08",
   "metadata": {},
   "source": [
    "Ihre Aufgabe ist es, die nachfolgende Tabelle zu vervollständigen, in dem Sie die gegebenen Werte in die jeweils anderen Positionssysteme umrechnen!\n",
    "\n",
    "Beispiel (erste Zeile): Die Dualzahl $10011111$ in das Positionssystem zur Basis 5 (Quinär), 10 (Dezimal) und 16 (Hexadezimal) umrechnen!\n",
    "\n",
    "Dual (2) | Quinär (5) | Dezimal (10) | Hexadezimal (16)\n",
    ":-: | :-: | :-: | :-: \n",
    "1001 1111 | . | . | .\n",
    ". | 134 | . | .\n",
    ". | . | . | ABC\n",
    "\n",
    "\n",
    "Zur Automatisierung der Umrechnung stehen Ihnen unten zwei (aus der Vorlesung bereits bekannte) Python-Funktionen zur Verfügung."
   ]
  },
  {
   "cell_type": "code",
   "execution_count": 8,
   "id": "bddaa2e0",
   "metadata": {},
   "outputs": [],
   "source": [
    "# dual2dec: Umwandlung einer Dualzahl in eine Dezimalzahl\n",
    "# Die Dualzahl n wird als Liste angebenen, z.B. [1,0,0,1,1,1,1,1]\n",
    "# Der Rückgabewert der Funktion ist eine ganze Zahl.\n",
    "\n",
    "def dual2dec (n):\n",
    "    result = 0\n",
    "    for d in n:\n",
    "        result = result * 2\n",
    "        result = result + d\n",
    "    return result\n",
    "\n",
    "\n",
    "# dec2dual: Umwandlung einer Dezimalzahl in eine Dualzahl\n",
    "# Die Dezimalzahl n wird als ganze Zahl übergeben\n",
    "# Der Rückgabewert ist eine Liste der Dual-Ziffern .\n",
    "\n",
    "def dec2dual (n):\n",
    "    result = []\n",
    "    while n>0:\n",
    "        r = n % 2  # % ist Modulo-Operator, d.h. Rest bei Division\n",
    "        n = n//2   # // ist Ganzzahldivision\n",
    "        result.insert(0, r)\n",
    "    return result\n",
    "\n",
    "\n"
   ]
  },
  {
   "cell_type": "markdown",
   "id": "7c58187f",
   "metadata": {},
   "source": [
    "<div class=\"alert alert-block alert-info aufgabe\">\n",
    "<ol>\n",
    "    <li>Erweitern Sie die Funktionen um einen Parameter $b$ (Basis), so dass sie von einer beliebigen Basis $b$ in das Dezimalsystem bzw. vom Dezimalsystem in eine beliebige Basis $b$ konvertieren können! </li>\n",
    "    <li>Nutzen Sie nun die erweiterten Funktionen <code>dual2dec (n, b)</code> und <code>dec2dual (n, b)</code>, um die fehlenden Werte in der Tabelle zu bestimmen. Wie müssen Sie die Funktionen dazu kombinieren?</li>\n",
    "</div>"
   ]
  },
  {
   "cell_type": "code",
   "execution_count": 43,
   "id": "6abf111d",
   "metadata": {},
   "outputs": [
    {
     "name": "stdout",
     "output_type": "stream",
     "text": [
      "In Dec  159\n",
      "In Quinär  [1, 1, 1, 4]\n",
      "In Hex  [9, 15]\n",
      "-----------\n",
      "In Dec  44\n",
      "In Binär  [1, 0, 1, 1, 0, 0]\n",
      "In Hex  [2, 12]\n",
      "-----------\n",
      "In Dec  2748\n",
      "In Binär  [1, 0, 1, 0, 1, 0, 1, 1, 1, 1, 0, 0]\n",
      "In Quinär  [4, 1, 4, 4, 3]\n"
     ]
    }
   ],
   "source": [
    "# Ihre Lösung hier\n",
    "\n",
    "def base2dec (n, b):\n",
    "    result = 0\n",
    "    for d in n:\n",
    "        result = result * b\n",
    "        result = result + d\n",
    "    return result\n",
    "\n",
    "\n",
    "# dec2dual: Umwandlung einer Dezimalzahl in eine Dualzahl\n",
    "# Die Dezimalzahl n wird als ganze Zahl übergeben\n",
    "# Der Rückgabewert ist eine Liste der Dual-Ziffern .\n",
    "\n",
    "def dec2base(n, b):\n",
    "    result = []\n",
    "    while n:\n",
    "        result.append(n % b)\n",
    "        n //= b \n",
    "    return result[::-1]\n",
    "\n",
    "print(\"In Dec \", base2dec([1, 0, 0, 1, 1, 1, 1, 1], 2)) # 320\n",
    "print(\"In Quinär \", dec2base(159, 5)) # 1114\n",
    "print(\"In Hex \", dec2base(159, 16)) # 9F\n",
    "print(\"-----------\")\n",
    "print(\"In Dec \", base2dec([1, 3, 4], 5)) # 44\n",
    "print(\"In Binär \", dec2base(44, 2)) # 101100\n",
    "print(\"In Hex \", dec2base(44, 16)) # 2C\n",
    "print(\"-----------\")\n",
    "print(\"In Dec \", base2dec([10, 11, 12], 16)) # 2748\n",
    "print(\"In Binär \", dec2base(2748, 2)) # 101010111100\n",
    "print(\"In Quinär \", dec2base(2748, 5)) # 41443\n"
   ]
  }
 ],
 "metadata": {
  "kernelspec": {
   "display_name": "Python 3",
   "language": "python",
   "name": "python3"
  },
  "language_info": {
   "codemirror_mode": {
    "name": "ipython",
    "version": 3
   },
   "file_extension": ".py",
   "mimetype": "text/x-python",
   "name": "python",
   "nbconvert_exporter": "python",
   "pygments_lexer": "ipython3",
   "version": "3.12.3"
  }
 },
 "nbformat": 4,
 "nbformat_minor": 5
}
